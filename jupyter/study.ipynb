{
 "cells": [
  {
   "cell_type": "code",
   "execution_count": 1,
   "id": "ef6a026b-ed0f-4a52-afcc-aeabc1cc91d3",
   "metadata": {},
   "outputs": [],
   "source": [
    "%load_ext kaihatsu"
   ]
  },
  {
   "cell_type": "code",
   "execution_count": 2,
   "id": "f7392b93-0954-4dc6-b04e-c1e511557e78",
   "metadata": {},
   "outputs": [],
   "source": [
    "from kaihatsu.chat import Chat\n",
    "from pydantic import BaseModel\n",
    "\n",
    "chat = Chat()\n",
    "\n",
    "class IsThisSentenceEnglish(BaseModel):\n",
    "    answer: bool\n",
    "\n",
    "is_this_english = Chat(\n",
    "    tool=IsThisSentenceEnglish,\n",
    "    system_prompt=\"You are a Japanese tutor helping a student learn Japanese.  Carefully read the following sentence and decide if it is an English sentence.\",\n",
    ")\n",
    "\n",
    "class TranslationSuggestion(BaseModel):\n",
    "    suggestion: str\n",
    "\n",
    "def suggest_some_japanese(sentence: str):\n",
    "    return chat(f\"I am practicing my Japanese by trying to translate English sentences to Japanese.  Could you make a short suggestion for how I might start translating the following sentence? {sentence}\")\n",
    "\n",
    "def correct_my_japanese(sentence: str):\n",
    "    return chat(f\"I am pracitcing my Japanese, would you review my sentence and fix any mistakes and suggest improvements to its flow?  {sentence}\")\n",
    "\n",
    "def j(sentence: str):\n",
    "    if is_this_english(sentence).answer:\n",
    "        print(suggest_some_japanese(sentence))\n",
    "    else:\n",
    "        print(correct_my_japanese(sentence))"
   ]
  },
  {
   "cell_type": "code",
   "execution_count": 6,
   "id": "45ade0a6-1d71-436f-b0ca-0d80535354d4",
   "metadata": {},
   "outputs": [
    {
     "name": "stdout",
     "output_type": "stream",
     "text": [
      "Here's a revised version of your sentence with improvements and corrections:\n",
      "\n",
      "* Original: 俺だってメンタライジングしすぎるのに偏っている気がする。どっちだって、そもそも相手と話したい、反応したいから。\n",
      "* Revised: 俺もメンタリングをしすぎる傾向があるように思う。どちらかというと、そもそも相手と話したいし、反応したいからだ。\n",
      "\n",
      "Here are the changes made:\n",
      "\n",
      "1. Replaced \"だって\" with \"も\" to show that you're including yourself in the group.\n",
      "2. Changed \"メンタライジング\" to \"メンタリング\" as the latter is the correct term for mentoring or coaching.\n",
      "3. Replaced \"偏っている\" with \"しすぎる傾向がある\" to better express that you tend to do too much mentoring.\n",
      "4. Changed \"どっちだって\" to \"どちらかというと\" for a smoother flow and to indicate that you're expressing a preference.\n",
      "5. Removed the comma after \"そもそも\" for better readability.\n",
      "6. Changed the order of \"話したい\" and \"反応したい\" to make the sentence flow more naturally.\n",
      "\n",
      "Your revised sentence now reads: \"I also tend to do too much mentoring. In fact, I'd rather just talk to and react with the other person.\"\n"
     ]
    }
   ],
   "source": [
    "%%convo j\n"
   ]
  },
  {
   "cell_type": "code",
   "execution_count": null,
   "id": "55c00b62-dc90-4156-af75-3223e4b2d8e9",
   "metadata": {},
   "outputs": [],
   "source": [
    "【事務職事務機関】第二条第二十四条第三十八十八条第一条第十二条三条、三者、大きくなっているということです。大きい人たちは、それぞれでしょうここですが、この時間の場合はまではことが、そことによりまできまった。その時代表情報告書類には、一緒に、これですからしていませんではありましたとはなります。まですね。一人があるとでは、今年のでもあって、一番組織田舎でも多く、そうないまたく、一般の場面しょっては、実には無理解明確認定した。"
   ]
  }
 ],
 "metadata": {
  "kernelspec": {
   "display_name": "Python 3 (ipykernel)",
   "language": "python",
   "name": "python3"
  },
  "language_info": {
   "codemirror_mode": {
    "name": "ipython",
    "version": 3
   },
   "file_extension": ".py",
   "mimetype": "text/x-python",
   "name": "python",
   "nbconvert_exporter": "python",
   "pygments_lexer": "ipython3",
   "version": "3.11.6"
  }
 },
 "nbformat": 4,
 "nbformat_minor": 5
}
