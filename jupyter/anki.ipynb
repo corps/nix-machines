{
 "cells": [
  {
   "cell_type": "code",
   "execution_count": 1,
   "id": "9cd7ba0d-89f0-45b6-8218-dc211741a466",
   "metadata": {},
   "outputs": [],
   "source": [
    "%load_ext kaihatsu"
   ]
  },
  {
   "cell_type": "code",
   "execution_count": 2,
   "id": "bf620b93-47cb-4962-99af-470b8b9cc47a",
   "metadata": {},
   "outputs": [],
   "source": [
    "from kaihatsu.anki import edit_cards, search_cards\n",
    "import kaihatsu.anki"
   ]
  },
  {
   "cell_type": "code",
   "execution_count": 3,
   "id": "58996649-e941-4336-a6bb-b8b9b535cb7b",
   "metadata": {},
   "outputs": [
    {
     "name": "stdout",
     "output_type": "stream",
     "text": [
      "{'params': {'query': 'due:0'}, 'action': 'findCards', 'version': 6}\n",
      "{'result': [], 'error': None}\n",
      "{'params': {'cards': []}, 'action': 'cardsInfo', 'version': 6}\n",
      "{'result': [], 'error': None}\n"
     ]
    },
    {
     "data": {
      "text/plain": [
       "[]"
      ]
     },
     "execution_count": 3,
     "metadata": {},
     "output_type": "execute_result"
    }
   ],
   "source": [
    "kaihatsu.anki.host = \"https://be9cd58029e6.ngrok.app\"\n",
    "search_cards(\"due:0\")"
   ]
  },
  {
   "cell_type": "code",
   "execution_count": null,
   "id": "76ec8da5-c879-49a4-81ce-9141d59b051d",
   "metadata": {},
   "outputs": [],
   "source": []
  }
 ],
 "metadata": {
  "kernelspec": {
   "display_name": "Python 3 (ipykernel)",
   "language": "python",
   "name": "python3"
  },
  "language_info": {
   "codemirror_mode": {
    "name": "ipython",
    "version": 3
   },
   "file_extension": ".py",
   "mimetype": "text/x-python",
   "name": "python",
   "nbconvert_exporter": "python",
   "pygments_lexer": "ipython3",
   "version": "3.11.6"
  }
 },
 "nbformat": 4,
 "nbformat_minor": 5
}
